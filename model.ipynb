{
 "cells": [
  {
   "cell_type": "code",
   "execution_count": 14,
   "id": "8ac1ccd3",
   "metadata": {},
   "outputs": [],
   "source": [
    "import os\n",
    "import google.genai as genai"
   ]
  },
  {
   "cell_type": "code",
   "execution_count": 16,
   "id": "6f7bb5b7",
   "metadata": {},
   "outputs": [],
   "source": [
    "from dotenv import load_dotenv\n",
    "load_dotenv()\n",
    "api_key= os.getenv(\"api_key\")\n",
    "\n"
   ]
  },
  {
   "cell_type": "code",
   "execution_count": 17,
   "id": "f73942ac",
   "metadata": {},
   "outputs": [],
   "source": [
    "client= genai.Client(api_key=api_key)"
   ]
  },
  {
   "cell_type": "code",
   "execution_count": null,
   "id": "d88229ff",
   "metadata": {},
   "outputs": [],
   "source": [
    "from typing import List, Dict\n",
    "from pydantic import BaseModel, Field\n",
    "\n",
    "\n",
    "\n",
    "class TaskOutput(BaseModel):\n",
    "    id: str = Field(..., description=\"Task identifier\")\n",
    "    repository: str = Field(..., description=\"GitHub repository URL\")\n",
    "    tutorial_summary: str = Field(..., description=\"Summary of what the repository does\")\n",
    "    repo_flow_graph: str = Field(..., description=\"Mermaid graph of the full repo\")\n",
    "    file_flow_graph: str = Field(..., description=\"Mermaid graph of one specific file\")\n",
    "\n",
    "class ListOutput(TaskOutput):\n",
    "    repos: List[TaskOutput]\n",
    "\n"
   ]
  },
  {
   "cell_type": "code",
   "execution_count": 31,
   "id": "8e27c198",
   "metadata": {},
   "outputs": [],
   "source": [
    "prompt = \"\"\"\n",
    "Provide me 10 synthetic Json format mermaid graph of the repo\n",
    "\"\"\""
   ]
  },
  {
   "cell_type": "code",
   "execution_count": 32,
   "id": "94d3d19e",
   "metadata": {},
   "outputs": [
    {
     "name": "stdout",
     "output_type": "stream",
     "text": [
      "{\n",
      "  \"file_flow_graph\": \"graph LR\\nA[File A] --> B[File B]\\nB --> C[File C]\",\n",
      "  \"id\": \"task1\",\n",
      "  \"repo_flow_graph\": \"graph LR\\nRepo --> A[File A]\\nRepo --> B[File B]\\nRepo --> C[File C]\",\n",
      "  \"repos\": [\n",
      "    {\n",
      "      \"file_flow_graph\": \"graph LR\\nA1[File A1] --> B1[File B1]\",\n",
      "      \"id\": \"task2\",\n",
      "      \"repo_flow_graph\": \"graph LR\\nRepo1 --> A1[File A1]\\nRepo1 --> B1[File B1]\",\n",
      "      \"repository\": \"github.com/repo1\",\n",
      "      \"tutorial_summary\": \"Repo 1 summary\"\n",
      "    },\n",
      "    {\n",
      "      \"file_flow_graph\": \"graph LR\\nA2[File A2] --> B2[File B2] --> C2[File C2]\",\n",
      "      \"id\": \"task3\",\n",
      "      \"repo_flow_graph\": \"graph LR\\nRepo2 --> A2[File A2]\\nRepo2 --> B2[File B2]\\nRepo2 --> C2[File C2]\",\n",
      "      \"repository\": \"github.com/repo2\",\n",
      "      \"tutorial_summary\": \"Repo 2 summary\"\n",
      "    },\n",
      "    {\n",
      "      \"file_flow_graph\": \"graph LR\\nA3[File A3] --> B3[File B3]\",\n",
      "      \"id\": \"task4\",\n",
      "      \"repo_flow_graph\": \"graph LR\\nRepo3 --> A3[File A3]\\nRepo3 --> B3[File B3]\",\n",
      "      \"repository\": \"github.com/repo3\",\n",
      "      \"tutorial_summary\": \"Repo 3 summary\"\n",
      "    },\n",
      "    {\n",
      "      \"file_flow_graph\": \"graph LR\\nA4[File A4]\",\n",
      "      \"id\": \"task5\",\n",
      "      \"repo_flow_graph\": \"graph LR\\nRepo4 --> A4[File A4]\",\n",
      "      \"repository\": \"github.com/repo4\",\n",
      "      \"tutorial_summary\": \"Repo 4 summary\"\n",
      "    },\n",
      "    {\n",
      "      \"file_flow_graph\": \"graph LR\\nA5[File A5] --> B5[File B5] --> C5[File C5] --> D5[File D5]\",\n",
      "      \"id\": \"task6\",\n",
      "      \"repo_flow_graph\": \"graph LR\\nRepo5 --> A5[File A5]\\nRepo5 --> B5[File B5]\\nRepo5 --> C5[File C5]\\nRepo5 --> D5[File D5]\",\n",
      "      \"repository\": \"github.com/repo5\",\n",
      "      \"tutorial_summary\": \"Repo 5 summary\"\n",
      "    },\n",
      "    {\n",
      "      \"file_flow_graph\": \"graph LR\\nA6[File A6] --> B6[File B6]\",\n",
      "      \"id\": \"task7\",\n",
      "      \"repo_flow_graph\": \"graph LR\\nRepo6 --> A6[File A6]\\nRepo6 --> B6[File B6]\",\n",
      "      \"repository\": \"github.com/repo6\",\n",
      "      \"tutorial_summary\": \"Repo 6 summary\"\n",
      "    },\n",
      "    {\n",
      "      \"file_flow_graph\": \"graph LR\\nA7[File A7] --> B7[File B7] --> C7[File C7]\",\n",
      "      \"id\": \"task8\",\n",
      "      \"repo_flow_graph\": \"graph LR\\nRepo7 --> A7[File A7]\\nRepo7 --> B7[File B7]\\nRepo7 --> C7[File C7]\",\n",
      "      \"repository\": \"github.com/repo7\",\n",
      "      \"tutorial_summary\": \"Repo 7 summary\"\n",
      "    },\n",
      "    {\n",
      "      \"file_flow_graph\": \"graph LR\\nA8[File A8]\",\n",
      "      \"id\": \"task9\",\n",
      "      \"repo_flow_graph\": \"graph LR\\nRepo8 --> A8[File A8]\",\n",
      "      \"repository\": \"github.com/repo8\",\n",
      "      \"tutorial_summary\": \"Repo 8 summary\"\n",
      "    },\n",
      "    {\n",
      "      \"file_flow_graph\": \"graph LR\\nA9[File A9] --> B9[File B9]\",\n",
      "      \"id\": \"task10\",\n",
      "      \"repo_flow_graph\": \"graph LR\\nRepo9 --> A9[File A9]\\nRepo9 --> B9[File B9]\",\n",
      "      \"repository\": \"github.com/repo9\",\n",
      "      \"tutorial_summary\": \"Repo 9 summary\"\n",
      "    },\n",
      "    {\n",
      "      \"file_flow_graph\": \"graph LR\\nA10[File A10] --> B10[File B10] --> C10[File C10]\",\n",
      "      \"id\": \"task11\",\n",
      "      \"repo_flow_graph\": \"graph LR\\nRepo10 --> A10[File A10]\\nRepo10 --> B10[File B10]\\nRepo10 --> C10[File C10]\",\n",
      "      \"repository\": \"github.com/repo10\",\n",
      "      \"tutorial_summary\": \"Repo 10 summary\"\n",
      "    }\n",
      "  ],\n",
      "  \"repository\": \"github.com/myrepo\",\n",
      "  \"tutorial_summary\": \"This is a test repository\"\n",
      "}\n"
     ]
    }
   ],
   "source": [
    "response = client.models.generate_content(\n",
    "    model='gemini-2.0-flash',\n",
    "    contents=[prompt],\n",
    "    config={\n",
    "        'response_mime_type': 'application/json',\n",
    "        'response_json_schema': ListOutput.model_json_schema(),\n",
    "    },\n",
    ")\n",
    "print(response.text)"
   ]
  },
  {
   "cell_type": "code",
   "execution_count": null,
   "id": "3c984bfe",
   "metadata": {},
   "outputs": [],
   "source": []
  }
 ],
 "metadata": {
  "kernelspec": {
   "display_name": "env1",
   "language": "python",
   "name": "python3"
  },
  "language_info": {
   "codemirror_mode": {
    "name": "ipython",
    "version": 3
   },
   "file_extension": ".py",
   "mimetype": "text/x-python",
   "name": "python",
   "nbconvert_exporter": "python",
   "pygments_lexer": "ipython3",
   "version": "3.13.5"
  }
 },
 "nbformat": 4,
 "nbformat_minor": 5
}
